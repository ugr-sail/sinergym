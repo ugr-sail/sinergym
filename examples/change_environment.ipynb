{
 "cells": [
  {
   "attachments": {},
   "cell_type": "markdown",
   "metadata": {
    "collapsed": false
   },
   "source": [
    "# Changing an environment registered in Sinergym"
   ]
  },
  {
   "attachments": {},
   "cell_type": "markdown",
   "metadata": {
    "collapsed": true,
    "pycharm": {
     "name": "#%% md\n"
    }
   },
   "source": [
    "To use any available environment in  *Sinergym* , simply import the ``sinergym`` package and call `gym.make(<environment_id>)` in your Python script. The list of available environments can be found in the [Sinergym documentation](https://ugr-sail.github.io/sinergym/compilation/main/pages/environments.html).\n"
   ]
  },
  {
   "cell_type": "code",
   "execution_count": null,
   "metadata": {
    "collapsed": false,
    "pycharm": {
     "is_executing": true,
     "name": "#%%\n"
    }
   },
   "outputs": [
    {
     "name": "stdout",
     "output_type": "stream",
     "text": [
      "#==============================================================================================#\n",
      "\u001b[38;20m[ENVIRONMENT] (INFO) : Creating Gymnasium environment.\u001b[0m\n",
      "\u001b[38;20m[ENVIRONMENT] (INFO) : Name: 5zone-hot-continuous-stochastic-v1\u001b[0m\n",
      "#==============================================================================================#\n",
      "\u001b[38;20m[MODELING] (INFO) : Experiment working directory created.\u001b[0m\n",
      "\u001b[38;20m[MODELING] (INFO) : Working directory: /workspaces/sinergym/examples/Eplus-env-5zone-hot-continuous-stochastic-v1-res1\u001b[0m\n",
      "\u001b[38;20m[MODELING] (INFO) : Model Config is correct.\u001b[0m\n",
      "\u001b[38;20m[MODELING] (INFO) : Update building model Output:Variable with variable names.\u001b[0m\n",
      "\u001b[38;20m[MODELING] (INFO) : Update building model Output:Meter with meter names.\u001b[0m\n",
      "\u001b[38;20m[MODELING] (INFO) : Runperiod established.\u001b[0m\n",
      "\u001b[38;20m[MODELING] (INFO) : Episode length (seconds): 31536000.0\u001b[0m\n",
      "\u001b[38;20m[MODELING] (INFO) : timestep size (seconds): 900.0\u001b[0m\n",
      "\u001b[38;20m[MODELING] (INFO) : timesteps per episode: 35040\u001b[0m\n",
      "\u001b[38;20m[REWARD] (INFO) : Reward function initialized.\u001b[0m\n",
      "\u001b[38;20m[ENVIRONMENT] (INFO) : Environment created successfully.\u001b[0m\n"
     ]
    }
   ],
   "source": [
    "import gymnasium as gym\n",
    "import numpy as np\n",
    "\n",
    "import sinergym\n",
    "\n",
    "env = gym.make('Eplus-5zone-hot-continuous-stochastic-v1')"
   ]
  },
  {
   "attachments": {},
   "cell_type": "markdown",
   "metadata": {},
   "source": [
    "*Sinergym* environments are composed by several components, including a building model (an *epJSON* file), a reward function, the action and observation spaces, variable definitions, meters, actuators, and more.\n",
    "\n",
    "If you want to create a new environment, you can add it to the [environment list](https://github.com/ugr-sail/sinergym/blob/main/sinergym/__init__.py) and run it locally.\n",
    "\n",
    "Alternatively, it is recommended to start with one of the pre-defined environment IDs and modify its components as needed.\n",
    "\n",
    "To do this, add the parameters you want to overwrite in the `gym.make(<environment_id>)` constructor of the *Sinergym* environment.\n",
    "\n",
    "Many of these updates need changes to the building model to accommodate new features. *Sinergym* will automatically handle these changes. For instance, using a different weather file requires updating the building location and design days. Similarly, using new observation variables requires updating the `Output:Variable` fields. The same applies to any additional configuration context directly related to the simulation. *Sinergym* saves this new building file version in its output folder, leaving the original untouched.\n",
    "\n",
    "Let's explore some of the elements that can be updated for any environment:"
   ]
  },
  {
   "attachments": {},
   "cell_type": "markdown",
   "metadata": {},
   "source": [
    "## Adding a new reward"
   ]
  },
  {
   "attachments": {},
   "cell_type": "markdown",
   "metadata": {},
   "source": [
    "When adding a new reward function, as mentioned above, simply add the appropriate parameters to `gym.make()` after specifying the environment ID.\n",
    "\n",
    "First, define the ``reward`` class, and then specify the required parameters. A reward function class has several user-specifiable parameters, such as temperature variables, weights, etc., depending on the chosen reward function. To define them, we use the ``reward_kwargs`` parameter. Refer to the [reward documentation](https://ugr-sail.github.io/sinergym/compilation/main/pages/rewards.html) for more details on reward classes and how to create a new one."
   ]
  },
  {
   "cell_type": "code",
   "execution_count": null,
   "metadata": {
    "collapsed": false,
    "pycharm": {
     "is_executing": true,
     "name": "#%%\n"
    }
   },
   "outputs": [
    {
     "name": "stdout",
     "output_type": "stream",
     "text": [
      "#==============================================================================================#\n",
      "\u001b[38;20m[ENVIRONMENT] (INFO) : Creating Gymnasium environment.\u001b[0m\n",
      "\u001b[38;20m[ENVIRONMENT] (INFO) : Name: 5zone-hot-continuous-v1\u001b[0m\n",
      "#==============================================================================================#\n",
      "\u001b[38;20m[MODELING] (INFO) : Experiment working directory created.\u001b[0m\n",
      "\u001b[38;20m[MODELING] (INFO) : Working directory: /workspaces/sinergym/examples/Eplus-env-5zone-hot-continuous-v1-res1\u001b[0m\n",
      "\u001b[38;20m[MODELING] (INFO) : Model Config is correct.\u001b[0m\n",
      "\u001b[38;20m[MODELING] (INFO) : Update building model Output:Variable with variable names.\u001b[0m\n",
      "\u001b[38;20m[MODELING] (INFO) : Update building model Output:Meter with meter names.\u001b[0m\n",
      "\u001b[38;20m[MODELING] (INFO) : Runperiod established.\u001b[0m\n",
      "\u001b[38;20m[MODELING] (INFO) : Episode length (seconds): 31536000.0\u001b[0m\n",
      "\u001b[38;20m[MODELING] (INFO) : timestep size (seconds): 900.0\u001b[0m\n",
      "\u001b[38;20m[MODELING] (INFO) : timesteps per episode: 35040\u001b[0m\n",
      "\u001b[38;20m[REWARD] (INFO) : Reward function initialized.\u001b[0m\n",
      "\u001b[38;20m[ENVIRONMENT] (INFO) : Environment created successfully.\u001b[0m\n"
     ]
    }
   ],
   "source": [
    "from sinergym.utils.rewards import ExpReward\n",
    "\n",
    "env = gym.make('Eplus-5zone-hot-continuous-v1', reward=ExpReward, reward_kwargs={\n",
    "    'temperature_variables': 'air_temperature',\n",
    "    'energy_variables': 'HVAC_electricity_demand_rate',\n",
    "    'range_comfort_winter': (20.0, 23.5),\n",
    "    'range_comfort_summer': (23.0, 26.0),\n",
    "    'energy_weight': 0.1})"
   ]
  },
  {
   "attachments": {},
   "cell_type": "markdown",
   "metadata": {},
   "source": [
    "## Updating the weather used by the environment"
   ]
  },
  {
   "attachments": {},
   "cell_type": "markdown",
   "metadata": {},
   "source": [
    "You can configure the weather dataset (and weather variability for stochastic environments) used by the environment with a new one.\n",
    "\n",
    "The approach is similar as for the reward case:"
   ]
  },
  {
   "cell_type": "code",
   "execution_count": null,
   "metadata": {},
   "outputs": [
    {
     "name": "stdout",
     "output_type": "stream",
     "text": [
      "#==============================================================================================#\n",
      "\u001b[38;20m[ENVIRONMENT] (INFO) : Creating Gymnasium environment.\u001b[0m\n",
      "\u001b[38;20m[ENVIRONMENT] (INFO) : Name: 5zone-cool-continuous-stochastic-v1\u001b[0m\n",
      "#==============================================================================================#\n",
      "\u001b[38;20m[MODELING] (INFO) : Experiment working directory created.\u001b[0m\n",
      "\u001b[38;20m[MODELING] (INFO) : Working directory: /workspaces/sinergym/examples/Eplus-env-5zone-cool-continuous-stochastic-v1-res1\u001b[0m\n",
      "\u001b[38;20m[MODELING] (INFO) : Model Config is correct.\u001b[0m\n",
      "\u001b[38;20m[MODELING] (INFO) : Update building model Output:Variable with variable names.\u001b[0m\n",
      "\u001b[38;20m[MODELING] (INFO) : Update building model Output:Meter with meter names.\u001b[0m\n",
      "\u001b[38;20m[MODELING] (INFO) : Runperiod established.\u001b[0m\n",
      "\u001b[38;20m[MODELING] (INFO) : Episode length (seconds): 31536000.0\u001b[0m\n",
      "\u001b[38;20m[MODELING] (INFO) : timestep size (seconds): 900.0\u001b[0m\n",
      "\u001b[38;20m[MODELING] (INFO) : timesteps per episode: 35040\u001b[0m\n",
      "\u001b[38;20m[REWARD] (INFO) : Reward function initialized.\u001b[0m\n",
      "\u001b[38;20m[ENVIRONMENT] (INFO) : Environment created successfully.\u001b[0m\n"
     ]
    }
   ],
   "source": [
    "env = gym.make('Eplus-5zone-cool-continuous-stochastic-v1',\n",
    "               weather_files='PRT_Lisboa.085360_INETI.epw',\n",
    "               weather_variability={\n",
    "                   \"drybulb\": (1.0, 0.0, 0.001),\n",
    "                   \"windspd\": (3.0, 0.0, 0.01)\n",
    "               })"
   ]
  },
  {
   "cell_type": "markdown",
   "metadata": {},
   "source": [
    "You can also configure multiple weather files to be used. In this scenario, *Sinergym* will randomly select one of the available weather files and adjust the building model to that location for each episode:"
   ]
  },
  {
   "cell_type": "code",
   "execution_count": null,
   "metadata": {},
   "outputs": [
    {
     "name": "stdout",
     "output_type": "stream",
     "text": [
      "#==============================================================================================#\n",
      "\u001b[38;20m[ENVIRONMENT] (INFO) : Creating Gymnasium environment.\u001b[0m\n",
      "\u001b[38;20m[ENVIRONMENT] (INFO) : Name: 5zone-cool-continuous-stochastic-v1\u001b[0m\n",
      "#==============================================================================================#\n",
      "\u001b[38;20m[MODELING] (INFO) : Experiment working directory created.\u001b[0m\n",
      "\u001b[38;20m[MODELING] (INFO) : Working directory: /workspaces/sinergym/examples/Eplus-env-5zone-cool-continuous-stochastic-v1-res2\u001b[0m\n",
      "\u001b[38;20m[MODELING] (INFO) : Model Config is correct.\u001b[0m\n",
      "\u001b[38;20m[MODELING] (INFO) : Update building model Output:Variable with variable names.\u001b[0m\n",
      "\u001b[38;20m[MODELING] (INFO) : Update building model Output:Meter with meter names.\u001b[0m\n",
      "\u001b[38;20m[MODELING] (INFO) : Runperiod established.\u001b[0m\n",
      "\u001b[38;20m[MODELING] (INFO) : Episode length (seconds): 31536000.0\u001b[0m\n",
      "\u001b[38;20m[MODELING] (INFO) : timestep size (seconds): 900.0\u001b[0m\n",
      "\u001b[38;20m[MODELING] (INFO) : timesteps per episode: 35040\u001b[0m\n",
      "\u001b[38;20m[REWARD] (INFO) : Reward function initialized.\u001b[0m\n",
      "\u001b[38;20m[ENVIRONMENT] (INFO) : Environment created successfully.\u001b[0m\n"
     ]
    }
   ],
   "source": [
    "env = gym.make('Eplus-5zone-cool-continuous-stochastic-v1',\n",
    "               weather_files=['ESP_Granada.084190_SWEC.epw', 'FIN_Helsinki.029740_IWEC.epw', 'PRT_Lisboa.085360_INETI.epw'])"
   ]
  },
  {
   "attachments": {},
   "cell_type": "markdown",
   "metadata": {},
   "source": [
    "## Changing observation and action spaces"
   ]
  },
  {
   "attachments": {},
   "cell_type": "markdown",
   "metadata": {},
   "source": [
    "By default, the default environments provided by *Sinergym* include pre-configured **time variables**, **variables**, **meters**, and **actuators**, along with observation (time variables, variables, and meters) and action (actuators) spaces for these components.\n",
    "\n",
    "However, these can be overwritten with new definitions. You will need to define the names of the new **time variables**, **variables**, **meters**, or **actuators**, as well as the **action space** definition (and an **action mapping** for discrete environments).\n",
    "\n",
    "*Sinergym* automatically calculates the observation space. It is also possible to modify a subset of these components. For more details on the structure definitions shown below, refer to the documentation."
   ]
  },
  {
   "cell_type": "code",
   "execution_count": null,
   "metadata": {},
   "outputs": [
    {
     "name": "stdout",
     "output_type": "stream",
     "text": [
      "#==============================================================================================#\n",
      "\u001b[38;20m[ENVIRONMENT] (INFO) : Creating Gymnasium environment.\u001b[0m\n",
      "\u001b[38;20m[ENVIRONMENT] (INFO) : Name: datacenter-cool-continuous-stochastic-v1\u001b[0m\n",
      "#==============================================================================================#\n",
      "\u001b[38;20m[MODELING] (INFO) : Experiment working directory created.\u001b[0m\n",
      "\u001b[38;20m[MODELING] (INFO) : Working directory: /workspaces/sinergym/examples/Eplus-env-datacenter-cool-continuous-stochastic-v1-res1\u001b[0m\n",
      "\u001b[38;20m[MODELING] (INFO) : Model Config is correct.\u001b[0m\n",
      "\u001b[38;20m[MODELING] (INFO) : Update building model Output:Variable with variable names.\u001b[0m\n",
      "\u001b[38;20m[MODELING] (INFO) : Update building model Output:Meter with meter names.\u001b[0m\n",
      "\u001b[38;20m[MODELING] (INFO) : Runperiod established.\u001b[0m\n",
      "\u001b[38;20m[MODELING] (INFO) : Episode length (seconds): 31536000.0\u001b[0m\n",
      "\u001b[38;20m[MODELING] (INFO) : timestep size (seconds): 900.0\u001b[0m\n",
      "\u001b[38;20m[MODELING] (INFO) : timesteps per episode: 35040\u001b[0m\n",
      "\u001b[38;20m[REWARD] (INFO) : Reward function initialized.\u001b[0m\n",
      "\u001b[38;20m[ENVIRONMENT] (INFO) : Environment created successfully.\u001b[0m\n",
      "New environment observation varibles (time variables + variables + meters): ['month', 'day_of_month', 'hour', 'outdoor_temperature', 'outdoor_humidity', 'wind_speed', 'wind_direction', 'diffuse_solar_radiation', 'direct_solar_radiation', 'west_zone_htg_setpoint', 'east_zone_htg_setpoint', 'west_zone_clg_setpoint', 'east_zone_clg_setpoint', 'west_zone_air_temperature', 'east_zone_air_temperature', 'west_zone_air_humidity', 'east_zone_air_humidity', 'HVAC_electricity_demand_rate', 'east_zone_electricity', 'west_zone_electricity']\n",
      "New environment action varibles (actuators): ['Heating_Setpoint_RL', 'Cooling_Setpoint_RL']\n",
      "#----------------------------------------------------------------------------------------------#\n",
      "\u001b[38;20m[ENVIRONMENT] (INFO) : Starting a new episode.\u001b[0m\n",
      "\u001b[38;20m[ENVIRONMENT] (INFO) : Episode 1: datacenter-cool-continuous-stochastic-v1\u001b[0m\n",
      "#----------------------------------------------------------------------------------------------#\n",
      "\u001b[38;20m[MODELING] (INFO) : Episode directory created.\u001b[0m\n",
      "\u001b[38;20m[MODELING] (INFO) : Weather file USA_WA_Port.Angeles-William.R.Fairchild.Intl.AP.727885_TMY3.epw used.\u001b[0m\n",
      "\u001b[38;20m[MODELING] (INFO) : Adapting weather to building model.\u001b[0m\n",
      "\u001b[38;20m[ENVIRONMENT] (INFO) : Saving episode output path.\u001b[0m\n",
      "\u001b[38;20m[ENVIRONMENT] (INFO) : Episode 1 started.\u001b[0m\n",
      "\u001b[38;20m[SIMULATOR] (INFO) : handlers initialized.\u001b[0m\n",
      "\u001b[38;20m[SIMULATOR] (INFO) : handlers are ready.\u001b[0m\n",
      "\u001b[38;20m[SIMULATOR] (INFO) : System is ready.\u001b[0m\n",
      "Simulation Progress [Episode 1]: 100%|██████████| 100/100 [00:26<00:00,  4.07%/s, 100% completed]Episode  0 Mean reward:  -0.6645031249190511 Cumulative reward:  -23284.189497163552\n",
      "Simulation Progress [Episode 1]: 100%|██████████| 100/100 [00:28<00:00,  3.47%/s, 100% completed]\n",
      "\u001b[38;20m[ENVIRONMENT] (INFO) : Environment closed. [datacenter-cool-continuous-stochastic-v1]\u001b[0m\n"
     ]
    }
   ],
   "source": [
    "import gymnasium as gym\n",
    "import numpy as np\n",
    "\n",
    "import sinergym\n",
    "\n",
    "new_time_variables = ['month', 'day_of_month', 'hour']\n",
    "\n",
    "new_variables = {\n",
    "    'outdoor_temperature': ('Site Outdoor Air Drybulb Temperature', 'Environment'),\n",
    "    'outdoor_humidity': ('Site Outdoor Air Relative Humidity', 'Environment'),\n",
    "    'wind_speed': ('Site Wind Speed', 'Environment'),\n",
    "    'wind_direction': ('Site Wind Direction', 'Environment'),\n",
    "    'diffuse_solar_radiation': ('Site Diffuse Solar Radiation Rate per Area', 'Environment'),\n",
    "    'direct_solar_radiation': ('Site Direct Solar Radiation Rate per Area', 'Environment'),\n",
    "    'west_zone_htg_setpoint': ('Zone Thermostat Heating Setpoint Temperature', 'West Zone'),\n",
    "    'east_zone_htg_setpoint': ('Zone Thermostat Heating Setpoint Temperature', 'East Zone'),\n",
    "    'west_zone_clg_setpoint': ('Zone Thermostat Cooling Setpoint Temperature', 'West Zone'),\n",
    "    'east_zone_clg_setpoint': ('Zone Thermostat Cooling Setpoint Temperature', 'East Zone'),\n",
    "    'west_zone_air_temperature': ('Zone Air Temperature', 'West Zone'),\n",
    "    'east_zone_air_temperature': ('Zone Air Temperature', 'East Zone'),\n",
    "    'west_zone_air_humidity': ('Zone Air Relative Humidity', 'West Zone'),\n",
    "    'east_zone_air_humidity': ('Zone Air Relative Humidity', 'East Zone'),\n",
    "    'HVAC_electricity_demand_rate': ('Facility Total HVAC Electricity Demand Rate', 'Whole Building')\n",
    "}\n",
    "\n",
    "new_meters = {\n",
    "    'east_zone_electricity': 'Electricity:Zone:EAST ZONE',\n",
    "    'west_zone_electricity': 'Electricity:Zone:WEST ZONE',\n",
    "}\n",
    "\n",
    "new_actuators = {\n",
    "    'Heating_Setpoint_RL': (\n",
    "        'Schedule:Compact',\n",
    "        'Schedule Value',\n",
    "        'Heating Setpoints'),\n",
    "    'Cooling_Setpoint_RL': (\n",
    "        'Schedule:Compact',\n",
    "        'Schedule Value',\n",
    "        'Cooling Setpoints')\n",
    "}\n",
    "\n",
    "new_action_space = gym.spaces.Box(\n",
    "    low=np.array([14.0, 22.0], dtype=np.float32),\n",
    "    high=np.array([22.0, 30.5], dtype=np.float32),\n",
    "    shape=(2,),\n",
    "    dtype=np.float32)\n",
    "\n",
    "env = gym.make('Eplus-datacenter-cool-continuous-stochastic-v1',\n",
    "               time_variables=new_time_variables,\n",
    "               variables=new_variables,\n",
    "               meters=new_meters,\n",
    "               actuators=new_actuators,\n",
    "               action_space=new_action_space,\n",
    "               )\n",
    "\n",
    "print('New environment observation variables (time variables + variables + meters): {}'.format(\n",
    "    env.get_wrapper_attr('observation_variables')))\n",
    "print('New environment action variables (actuators): {}'.format(\n",
    "    env.get_wrapper_attr('action_variables')))\n",
    "for i in range(1):\n",
    "    obs, info = env.reset()\n",
    "    rewards = []\n",
    "    truncated = terminated = False\n",
    "    current_month = 0\n",
    "    while not (terminated or truncated):\n",
    "        a = env.action_space.sample()\n",
    "        obs, reward, terminated, truncated, info = env.step(a)\n",
    "        rewards.append(reward)\n",
    "    print(\n",
    "        'Episode ',\n",
    "        i,\n",
    "        'Mean reward: ',\n",
    "        np.mean(rewards),\n",
    "        'Cumulative reward: ',\n",
    "        sum(rewards))\n",
    "env.close()"
   ]
  },
  {
   "attachments": {},
   "cell_type": "markdown",
   "metadata": {},
   "source": [
    "If the definition contains inconsistencies, such as mismatched spaces and variables, or non-existent observation variables, *Sinergym* will throw an error. The definitions for time variables, variables, meters, or actuators must be compatible with the EnergyPlus engine.\n",
    "\n",
    "You can define the spaces using our [environment register](https://ugr-sail.github.io/sinergym/compilation/main/pages/environments_registration.html) too. Refer to the documentation for additional details."
   ]
  },
  {
   "attachments": {},
   "cell_type": "markdown",
   "metadata": {},
   "source": [
    "## Adding extra configuration"
   ]
  },
  {
   "cell_type": "markdown",
   "metadata": {},
   "source": [
    "In *Sinergym*, any argument of the environment constructor can be updated. This allows for modifications such as changing the environment name, adjusting the maximum number of episodes stored in its output, or altering the action normalization range."
   ]
  },
  {
   "cell_type": "code",
   "execution_count": null,
   "metadata": {},
   "outputs": [
    {
     "name": "stdout",
     "output_type": "stream",
     "text": [
      "#==============================================================================================#\n",
      "\u001b[38;20m[ENVIRONMENT] (INFO) : Creating Gymnasium environment.\u001b[0m\n",
      "\u001b[38;20m[ENVIRONMENT] (INFO) : Name: new_env_name\u001b[0m\n",
      "#==============================================================================================#\n",
      "\u001b[38;20m[MODELING] (INFO) : Experiment working directory created.\u001b[0m\n",
      "\u001b[38;20m[MODELING] (INFO) : Working directory: /workspaces/sinergym/examples/Eplus-env-new_env_name-res1\u001b[0m\n",
      "\u001b[38;20m[MODELING] (INFO) : Model Config is correct.\u001b[0m\n",
      "\u001b[38;20m[MODELING] (INFO) : Update building model Output:Variable with variable names.\u001b[0m\n",
      "\u001b[38;20m[MODELING] (INFO) : Update building model Output:Meter with meter names.\u001b[0m\n",
      "\u001b[38;20m[MODELING] (INFO) : Runperiod established.\u001b[0m\n",
      "\u001b[38;20m[MODELING] (INFO) : Episode length (seconds): 31536000.0\u001b[0m\n",
      "\u001b[38;20m[MODELING] (INFO) : timestep size (seconds): 900.0\u001b[0m\n",
      "\u001b[38;20m[MODELING] (INFO) : timesteps per episode: 35040\u001b[0m\n",
      "\u001b[38;20m[REWARD] (INFO) : Reward function initialized.\u001b[0m\n",
      "\u001b[38;20m[ENVIRONMENT] (INFO) : Environment created successfully.\u001b[0m\n"
     ]
    }
   ],
   "source": [
    "env = gym.make('Eplus-datacenter-cool-continuous-stochastic-v1',\n",
    "               env_name='new_env_name',\n",
    "               max_ep_store=20\n",
    "               )"
   ]
  },
  {
   "attachments": {},
   "cell_type": "markdown",
   "metadata": {},
   "source": [
    "You can also provide a dictionary with additional parameters to update the building model directly with new simulation-related information."
   ]
  },
  {
   "cell_type": "code",
   "execution_count": null,
   "metadata": {},
   "outputs": [
    {
     "name": "stdout",
     "output_type": "stream",
     "text": [
      "#==============================================================================================#\n",
      "\u001b[38;20m[ENVIRONMENT] (INFO) : Creating Gymnasium environment.\u001b[0m\n",
      "\u001b[38;20m[ENVIRONMENT] (INFO) : Name: datacenter-cool-continuous-stochastic-v1\u001b[0m\n",
      "#==============================================================================================#\n",
      "\u001b[38;20m[MODELING] (INFO) : Experiment working directory created.\u001b[0m\n",
      "\u001b[38;20m[MODELING] (INFO) : Working directory: /workspaces/sinergym/examples/Eplus-env-datacenter-cool-continuous-stochastic-v1-res2\u001b[0m\n",
      "\u001b[38;20m[MODELING] (INFO) : Model Config is correct.\u001b[0m\n",
      "\u001b[38;20m[MODELING] (INFO) : Update building model Output:Variable with variable names.\u001b[0m\n",
      "\u001b[38;20m[MODELING] (INFO) : Update building model Output:Meter with meter names.\u001b[0m\n",
      "\u001b[38;20m[MODELING] (INFO) : Extra config: runperiod updated to {'apply_weekend_holiday_rule': 'No', 'begin_day_of_month': 1, 'begin_month': 1, 'begin_year': 1991, 'day_of_week_for_start_day': 'Tuesday', 'end_day_of_month': 2, 'end_month': 1, 'end_year': 1991, 'use_weather_file_daylight_saving_period': 'Yes', 'use_weather_file_holidays_and_special_days': 'Yes', 'use_weather_file_rain_indicators': 'Yes', 'use_weather_file_snow_indicators': 'Yes'}\u001b[0m\n",
      "\u001b[38;20m[MODELING] (INFO) : Updated episode length (seconds): 172800.0\u001b[0m\n",
      "\u001b[38;20m[MODELING] (INFO) : Updated timestep size (seconds): 600.0\u001b[0m\n",
      "\u001b[38;20m[MODELING] (INFO) : Updated timesteps per episode: 288\u001b[0m\n",
      "\u001b[38;20m[MODELING] (INFO) : Runperiod established.\u001b[0m\n",
      "\u001b[38;20m[MODELING] (INFO) : Episode length (seconds): 172800.0\u001b[0m\n",
      "\u001b[38;20m[MODELING] (INFO) : timestep size (seconds): 600.0\u001b[0m\n",
      "\u001b[38;20m[MODELING] (INFO) : timesteps per episode: 288\u001b[0m\n",
      "\u001b[38;20m[REWARD] (INFO) : Reward function initialized.\u001b[0m\n",
      "\u001b[38;20m[ENVIRONMENT] (INFO) : Environment created successfully.\u001b[0m\n",
      "#----------------------------------------------------------------------------------------------#\n",
      "\u001b[38;20m[ENVIRONMENT] (INFO) : Starting a new episode.\u001b[0m\n",
      "\u001b[38;20m[ENVIRONMENT] (INFO) : Episode 1: datacenter-cool-continuous-stochastic-v1\u001b[0m\n",
      "#----------------------------------------------------------------------------------------------#\n",
      "\u001b[38;20m[MODELING] (INFO) : Episode directory created.\u001b[0m\n",
      "\u001b[38;20m[MODELING] (INFO) : Weather file USA_WA_Port.Angeles-William.R.Fairchild.Intl.AP.727885_TMY3.epw used.\u001b[0m\n",
      "\u001b[38;20m[MODELING] (INFO) : Adapting weather to building model.\u001b[0m\n",
      "\u001b[38;20m[ENVIRONMENT] (INFO) : Saving episode output path.\u001b[0m\n",
      "\u001b[38;20m[ENVIRONMENT] (INFO) : Episode 1 started.\u001b[0m\n",
      "\u001b[38;20m[SIMULATOR] (INFO) : handlers initialized.\u001b[0m\n",
      "\u001b[38;20m[SIMULATOR] (INFO) : handlers are ready.\u001b[0m\n",
      "\u001b[38;20m[SIMULATOR] (INFO) : System is ready.\u001b[0m\n",
      "\u001b[38;20m[ENVIRONMENT] (INFO) : Environment closed. [datacenter-cool-continuous-stochastic-v1]\u001b[0m   \n",
      "Simulation Progress [Episode 1]:  51%|█████     | 51/100 [00:00<00:00, 1534.34%/s, 51% completed]"
     ]
    }
   ],
   "source": [
    "extra_conf = {\n",
    "    'timesteps_per_hour': 6,\n",
    "    'runperiod': (1, 1, 1991, 2, 1, 1991),\n",
    "}\n",
    "\n",
    "env = gym.make('Eplus-datacenter-cool-continuous-stochastic-v1',\n",
    "               building_config=extra_conf\n",
    "               )\n",
    "\n",
    "env.reset()\n",
    "env.close()"
   ]
  },
  {
   "attachments": {},
   "cell_type": "markdown",
   "metadata": {},
   "source": [
    "For more information about extra configuration parameters, see [the corresponding documentation](https://ugr-sail.github.io/sinergym/compilation/html/pages/extra-configuration.html)."
   ]
  }
 ],
 "metadata": {
  "kernelspec": {
   "display_name": "Python 3",
   "language": "python",
   "name": "python3"
  },
  "language_info": {
   "codemirror_mode": {
    "name": "ipython",
    "version": 3
   },
   "file_extension": ".py",
   "mimetype": "text/x-python",
   "name": "python",
   "nbconvert_exporter": "python",
   "pygments_lexer": "ipython3",
   "version": "3.12.3"
  }
 },
 "nbformat": 4,
 "nbformat_minor": 0
}
