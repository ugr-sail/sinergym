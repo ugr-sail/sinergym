{
 "cells": [
  {
   "cell_type": "markdown",
   "metadata": {},
   "source": [
    "# Logging unused variables"
   ]
  },
  {
   "cell_type": "markdown",
   "metadata": {},
   "source": [
    "Custom logger wrappers in *Sinergym* enable recording any metric based on interaction data with the environment (as shown [here](https://ugr-sail.github.io/sinergym/compilation/main/pages/notebooks/personalize_loggerwrapper.html)). However, there may be cases where you want to monitor data directly from the simulator.\n",
    "\n",
    "Until version v3.3.2 of *Sinergym*, all variables monitored using the `LoggerWrapper` had to be present in the observation space. This represents a drawback when we want to monitor certain variables of the simulation that are not used for control (i.e., that are not present in the environment's observation space).\n",
    "\n",
    "Including extra variables that are not directly part of the observation space requires certain internal changes that break the minimalist structure of the classes and EnergyPlus API usage that make up the tool.\n",
    "\n",
    "This notebook explains the correct way to do it, which is possible since *Sinergym* v3.3.3. It involves the use of the [ReduceObservationWrapper](https://ugr-sail.github.io/sinergym/compilation/main/pages/wrappers.html#reduceobservationwrapper) in combination with the [LoggerWrapper](https://ugr-sail.github.io/sinergym/compilation/main/pages/wrappers.html#loggerwrapper).\n",
    "\n",
    "The idea is to define all the variables to be observed, whether they are part of the final observation space or not, and monitor everything with the `LoggerWrapper`, to later add a layer that removes the desired variables from the observation space (just when they are already being monitored, which is our goal)."
   ]
  },
  {
   "cell_type": "code",
   "execution_count": 5,
   "metadata": {},
   "outputs": [
    {
     "name": "stdout",
     "output_type": "stream",
     "text": [
      "#==============================================================================================#\n",
      "\u001b[38;20m[ENVIRONMENT] (INFO) : Creating Gymnasium environment.\u001b[0m\n",
      "\u001b[38;20m[ENVIRONMENT] (INFO) : Name: Eplus-5zone-hot-continuous-stochastic-v1\u001b[0m\n",
      "#==============================================================================================#\n",
      "\u001b[38;20m[MODEL] (INFO) : Working directory created: /workspaces/sinergym/examples/Eplus-5zone-hot-continuous-stochastic-v1-res1\u001b[0m\n",
      "\u001b[38;20m[MODEL] (INFO) : Model Config is correct.\u001b[0m\n",
      "\u001b[38;20m[MODEL] (INFO) : Building model Output:Variable updated with defined variable names.\u001b[0m\n",
      "\u001b[38;20m[MODEL] (INFO) : Updated building model Output:Meter with meter names.\u001b[0m\n",
      "\u001b[38;20m[MODEL] (INFO) : Runperiod established.\u001b[0m\n",
      "\u001b[38;20m[MODEL] (INFO) : Episode length (seconds): 31536000.0\u001b[0m\n",
      "\u001b[38;20m[MODEL] (INFO) : timestep size (seconds): 900.0\u001b[0m\n",
      "\u001b[38;20m[MODEL] (INFO) : timesteps per episode: 35040\u001b[0m\n",
      "\u001b[38;20m[REWARD] (INFO) : Reward function initialized.\u001b[0m\n",
      "\u001b[38;20m[ENVIRONMENT] (INFO) : Environment created successfully.\u001b[0m\n",
      "\u001b[38;20m[WRAPPER NormalizeAction] (INFO) : New normalized action space: Box(-1.0, 1.0, (2,), float32)\u001b[0m\n",
      "\u001b[38;20m[WRAPPER NormalizeAction] (INFO) : Wrapper initialized.\u001b[0m\n",
      "\u001b[38;20m[WRAPPER NormalizeObservation] (INFO) : Wrapper initialized.\u001b[0m\n",
      "\u001b[38;20m[WRAPPER LoggerWrapper] (INFO) : Wrapper initialized.\u001b[0m\n",
      "###########################################################################\n",
      "Old observation space shape:  17\n",
      "Old observation variables:  ['month', 'day_of_month', 'hour', 'outdoor_temperature', 'outdoor_humidity', 'wind_speed', 'wind_direction', 'diffuse_solar_radiation', 'direct_solar_radiation', 'htg_setpoint', 'clg_setpoint', 'air_temperature', 'air_humidity', 'people_occupant', 'co2_emission', 'HVAC_electricity_demand_rate', 'total_electricity_HVAC']\n",
      "###########################################################################\n",
      "\u001b[38;20m[WRAPPER CSVLogger] (INFO) : Wrapper initialized.\u001b[0m\n",
      "\u001b[38;20m[WRAPPER ReduceObservationWrapper] (INFO) : Wrapper initialized.\u001b[0m\n",
      "###########################################################################\n",
      "Wrapped observation space shape:  14\n",
      "Wrapped observation variables:  ['month', 'day_of_month', 'hour', 'wind_speed', 'wind_direction', 'diffuse_solar_radiation', 'direct_solar_radiation', 'htg_setpoint', 'clg_setpoint', 'air_humidity', 'people_occupant', 'co2_emission', 'HVAC_electricity_demand_rate', 'total_electricity_HVAC']\n",
      "###########################################################################\n"
     ]
    }
   ],
   "source": [
    "import gymnasium as gym\n",
    "import numpy as np\n",
    "\n",
    "import sinergym\n",
    "from sinergym.utils.wrappers import (\n",
    "    LoggerWrapper,\n",
    "    NormalizeAction,\n",
    "    NormalizeObservation,\n",
    "    ReduceObservationWrapper,\n",
    "    CSVLogger,\n",
    "    WandBLogger)\n",
    "\n",
    "# Creating environment and applying wrappers for normalization and logging\n",
    "env = gym.make('Eplus-5zone-hot-continuous-stochastic-v1')\n",
    "env = NormalizeAction(env)\n",
    "env = NormalizeObservation(env)\n",
    "env = LoggerWrapper(env)\n",
    "print('###########################################################################')\n",
    "print('Old observation space shape: ', env.observation_space.shape[0])\n",
    "print('Old observation variables: ',\n",
    "      env.get_wrapper_attr('observation_variables'))\n",
    "print('###########################################################################')\n",
    "\n",
    "# Here we can add the CSVLogger or WandBLogger\n",
    "env = CSVLogger(env)\n",
    "# env = WandBLogger(env,\n",
    "#                   entity='alejandro-campoy',\n",
    "#                   project_name='test-project',\n",
    "#                   run_name='test-reduction')\n",
    "\n",
    "env = ReduceObservationWrapper(env, obs_reduction=[\n",
    "                               'outdoor_temperature', 'outdoor_humidity', 'air_temperature'])\n",
    "print('###########################################################################')\n",
    "print('Wrapped observation space shape: ', env.observation_space.shape[0])\n",
    "print('Wrapped observation variables: ',\n",
    "      env.get_wrapper_attr('observation_variables'))\n",
    "print('###########################################################################')"
   ]
  },
  {
   "cell_type": "markdown",
   "metadata": {},
   "source": [
    "The **order of the wrappers** is important! By applying normalization first, for example, we ensure that this transformation is subsequently monitored. \n",
    "\n",
    "As we **apply the logger before reducing the observation space**, we also record these variables before they are removed from the observations. If we use the logger wrapper at the end, these variables would not be monitored. This can be verified by reviewing the CSV files generated for the observation variables."
   ]
  },
  {
   "cell_type": "markdown",
   "metadata": {},
   "source": [
    "Note that even if we remove a variable that is used in the reward function, as this value is used in the core of the environment (before any wrapper), it still works as expected."
   ]
  },
  {
   "cell_type": "code",
   "execution_count": 7,
   "metadata": {},
   "outputs": [
    {
     "name": "stdout",
     "output_type": "stream",
     "text": [
      "\u001b[38;20m[WRAPPER CSVLogger] (INFO) : Environment closed, data updated in monitor and progress.csv.\u001b[0m\n",
      "\u001b[38;20m[WRAPPER NormalizeObservation] (INFO) : Normalization calibration saved.\u001b[0m\n",
      "\u001b[38;20m[ENVIRONMENT] (INFO) : Environment closed. [Eplus-5zone-hot-continuous-stochastic-v1]\u001b[0m    \n",
      "Simulation Progress [Episode 1]: 100%|██████████| 100/100 [00:00<00:00, 5946.16%/s, 100% completed]"
     ]
    }
   ],
   "source": [
    "env.close()"
   ]
  }
 ],
 "metadata": {
  "kernelspec": {
   "display_name": "Python 3",
   "language": "python",
   "name": "python3"
  },
  "language_info": {
   "codemirror_mode": {
    "name": "ipython",
    "version": 3
   },
   "file_extension": ".py",
   "mimetype": "text/x-python",
   "name": "python",
   "nbconvert_exporter": "python",
   "pygments_lexer": "ipython3",
   "version": "3.12.3"
  }
 },
 "nbformat": 4,
 "nbformat_minor": 2
}
